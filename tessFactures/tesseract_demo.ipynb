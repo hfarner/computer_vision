{
 "cells": [
  {
   "cell_type": "markdown",
   "metadata": {},
   "source": [
    "C:\\Users\\admin>tesseract-4.0.0 C:\\BluePrism\\Demo\\InvoiceDemo\\Invoice_1.jpg test   \n",
    "Tesseract Open Source OCR Engine v4.0.0 with Leptonica  \n",
    "Detected 29 diacritics  \n",
    "  \n",
    "Normalement un fichier test.txt est créé dans le répertoire courant"
   ]
  },
  {
   "cell_type": "code",
   "execution_count": 35,
   "metadata": {},
   "outputs": [],
   "source": [
    "try:\n",
    "    from PIL import Image\n",
    "except ImportError:\n",
    "    import Image\n",
    "import pytesseract\n",
    "import json\n",
    "import cv2\n",
    "import numpy as np"
   ]
  },
  {
   "cell_type": "code",
   "execution_count": 42,
   "metadata": {},
   "outputs": [],
   "source": [
    "#pytesseract.pytesseract.tesseract_cmd = r'tesseract-4.0.0.exe'\n",
    "#fichier = r'/home/benoit/git/python_tutos/tesseract/tessFactures/Facture_1.jpg'\n",
    "fichier = r'Facture_2.jpg'\n",
    "image = Image.open(fichier)\n",
    "output = {}"
   ]
  },
  {
   "cell_type": "code",
   "execution_count": 43,
   "metadata": {},
   "outputs": [],
   "source": [
    "# test pour intégration flask\n",
    "# https://gist.github.com/kylehounslow/767fb72fde2ebdd010a0bf4242371594\n",
    "# coté client\n",
    "img = cv2.imread(r'Facture_2.jpg')\n",
    "_, img_encoded = cv2.imencode('.jpg', img)\n",
    "\n",
    "# coté serveur\n",
    "nparr = np.frombuffer(img_encoded.tostring(), np.uint8)\n",
    "imgs = cv2.imdecode(nparr, cv2.IMREAD_COLOR)\n",
    "resultat = pytesseract.image_to_string(imgs)"
   ]
  },
  {
   "cell_type": "code",
   "execution_count": 44,
   "metadata": {},
   "outputs": [
    {
     "name": "stdout",
     "output_type": "stream",
     "text": [
      "BLUEPRISM FACTURE\n",
      "\n",
      "9 rue du colisée\n",
      "75008 PARIS\n",
      "\n",
      "+33 1 54 47 89 89\n",
      "www.blueprism.com/fr\n",
      "\n",
      "Compagnie d’eléectricité\n",
      "3 avenue Foch\n",
      "\n",
      "75001 PARIS\n",
      "Référence: ZR8978989\n",
      "Date: 06/12/2020\n",
      "Client: 897695146\n",
      "Intitulé: Rénovation de la tour eiffel\n",
      "Quantité Désignation Prix unitaire HT — Prix total HT\n",
      "45 Briquette 36 541\n",
      "25 Planches de chantier 120 410\n",
      "Total HT 951,00 €\n",
      "TVA (20%) 190,20 €\n",
      "Total TTC (en euros) 1041,20€\n",
      "\n",
      "En votre aimable réglement,\n",
      "Cordialement,\n",
      "\n",
      "Conditions de paiement : paiement a réception de facture, a 30 jours...\n",
      "\n",
      "Aucun escompte consenti pour reglement anticipé\n",
      "\n",
      "Tout incident de paiement est passible d'intérét de retard. Le montant des pénalités résulte de l'application\n",
      "aux sommes restant dues d'un taux d'intérét legal en vigueur au moment de I'incident.\n",
      "\n",
      "Indemnité forfaitaire pour frais de recouvrement due au créancier en cas de retard de paiement : 40€\n",
      "\n",
      "N° Siret 210.896.764 00015 RCS Montpellier\n",
      "Code APE 947A - N° TVA Intracom. FR 77825896764000\n"
     ]
    }
   ],
   "source": [
    "resultat = pytesseract.image_to_string(image)\n",
    "print(resultat)"
   ]
  },
  {
   "cell_type": "markdown",
   "metadata": {},
   "source": [
    "## Récupère l'adresse"
   ]
  },
  {
   "cell_type": "code",
   "execution_count": 45,
   "metadata": {},
   "outputs": [
    {
     "name": "stdout",
     "output_type": "stream",
     "text": [
      "{'Adresse': 'Compagnie d’eléectricité\\n3 avenue Foch\\n75001 PARIS'}\n"
     ]
    }
   ],
   "source": [
    "def RemoveEmptyLines(entree):\n",
    "    tab = entree.strip()\n",
    "    tableausansvide = [ x for x in tab.splitlines() if x!='' ]\n",
    "    res = ''\n",
    "    for i in range(0, len(tableausansvide)):\n",
    "        res = res + tableausansvide[i] + '\\n'\n",
    "    return res\n",
    "\n",
    "def getTextBetween(mainString, startWord, endWord):\n",
    "    start = mainString.find(startWord) + len(startWord)\n",
    "    end = mainString.find(endWord)\n",
    "    return RemoveEmptyLines(mainString[start:end])\n",
    "\n",
    "output[\"Adresse\"] = getTextBetween(resultat, 'www.blueprism.com/fr', 'Référence').strip()\n",
    "print (output)"
   ]
  },
  {
   "cell_type": "markdown",
   "metadata": {},
   "source": [
    "## Récupère la référence"
   ]
  },
  {
   "cell_type": "code",
   "execution_count": 46,
   "metadata": {},
   "outputs": [
    {
     "name": "stdout",
     "output_type": "stream",
     "text": [
      "{'Adresse': 'Compagnie d’eléectricité\\n3 avenue Foch\\n75001 PARIS', 'Reference': 'ZR8978989'}\n"
     ]
    }
   ],
   "source": [
    "output[\"Reference\"] = getTextBetween(resultat, 'Référence: ', 'Date: ').strip()\n",
    "print (output)"
   ]
  },
  {
   "cell_type": "markdown",
   "metadata": {},
   "source": [
    "## Récupère la date de facture"
   ]
  },
  {
   "cell_type": "code",
   "execution_count": 47,
   "metadata": {},
   "outputs": [
    {
     "name": "stdout",
     "output_type": "stream",
     "text": [
      "{'Adresse': 'Compagnie d’eléectricité\\n3 avenue Foch\\n75001 PARIS', 'Reference': 'ZR8978989', 'DateFacture': '06/12/2020'}\n"
     ]
    }
   ],
   "source": [
    "output[\"DateFacture\"] = getTextBetween(resultat, 'Date: ', 'Client: ').strip()\n",
    "print (output)"
   ]
  },
  {
   "cell_type": "markdown",
   "metadata": {},
   "source": [
    "## Récupération du code client"
   ]
  },
  {
   "cell_type": "code",
   "execution_count": 48,
   "metadata": {},
   "outputs": [
    {
     "name": "stdout",
     "output_type": "stream",
     "text": [
      "{'Adresse': 'Compagnie d’eléectricité\\n3 avenue Foch\\n75001 PARIS', 'Reference': 'ZR8978989', 'DateFacture': '06/12/2020', 'CodeClient': '897695146'}\n"
     ]
    }
   ],
   "source": [
    "output[\"CodeClient\"] = getTextBetween(resultat, 'Client: ', 'Intitulé: ').strip()\n",
    "print (output)"
   ]
  },
  {
   "cell_type": "markdown",
   "metadata": {},
   "source": [
    "## Récupération des details PO"
   ]
  },
  {
   "cell_type": "code",
   "execution_count": 49,
   "metadata": {},
   "outputs": [
    {
     "name": "stdout",
     "output_type": "stream",
     "text": [
      "Nombre de PO: 2\n",
      "{'Adresse': 'Compagnie d’eléectricité\\n3 avenue Foch\\n75001 PARIS', 'Reference': 'ZR8978989', 'DateFacture': '06/12/2020', 'CodeClient': '897695146', 'NbPo': 2}\n"
     ]
    }
   ],
   "source": [
    "pos = getTextBetween(resultat, 'Prix total HT', 'Total HT ')\n",
    "tabPOs = pos.splitlines()\n",
    "print ('Nombre de PO: ' + str(len(tabPOs)))\n",
    "output[\"NbPo\"] = len(tabPOs)\n",
    "print (output)"
   ]
  },
  {
   "cell_type": "code",
   "execution_count": 50,
   "metadata": {},
   "outputs": [
    {
     "name": "stdout",
     "output_type": "stream",
     "text": [
      "Ligne 1: {'quantite': '45', 'prixtotht': '541', 'prixunitht': '36', 'decription': 'Briquette'}\n"
     ]
    }
   ],
   "source": [
    "def getPosElement(po):\n",
    "    element = {}\n",
    "    element['quantite'] = po[0:po.find (' ')].strip()\n",
    "    po = po[po.find (' '):len(po)]\n",
    "    element['prixtotht'] = po[po.rfind (' '):len(po)].strip()\n",
    "    po = po[0:po.rfind (' ')]\n",
    "    element['prixunitht'] = po[po.rfind (' '):len(po)].strip()\n",
    "    po = po[0:po.rfind (' ')]\n",
    "    element['decription'] = po.strip()\n",
    "    return element\n",
    "\n",
    "print ('Ligne 1: ' + str(getPosElement(tabPOs[0])))"
   ]
  },
  {
   "cell_type": "markdown",
   "metadata": {},
   "source": [
    "### Ajoute les lignes de factures"
   ]
  },
  {
   "cell_type": "code",
   "execution_count": 51,
   "metadata": {},
   "outputs": [
    {
     "name": "stdout",
     "output_type": "stream",
     "text": [
      "{'Adresse': 'Compagnie d’eléectricité\\n3 avenue Foch\\n75001 PARIS', 'Reference': 'ZR8978989', 'DateFacture': '06/12/2020', 'CodeClient': '897695146', 'NbPo': 2, 'po': [{'quantite': '45', 'prixtotht': '541', 'prixunitht': '36', 'decription': 'Briquette'}, {'quantite': '25', 'prixtotht': '410', 'prixunitht': '120', 'decription': 'Planches de chantier'}]}\n"
     ]
    }
   ],
   "source": [
    "pos = []\n",
    "for i in range(0, len(tabPOs)):\n",
    "    pos.append(getPosElement(tabPOs[i]))\n",
    "output['po'] = pos\n",
    "print (output)"
   ]
  },
  {
   "cell_type": "markdown",
   "metadata": {},
   "source": [
    "## Total HT"
   ]
  },
  {
   "cell_type": "code",
   "execution_count": 52,
   "metadata": {},
   "outputs": [
    {
     "name": "stdout",
     "output_type": "stream",
     "text": [
      "{'Adresse': 'Compagnie d’eléectricité\\n3 avenue Foch\\n75001 PARIS', 'Reference': 'ZR8978989', 'DateFacture': '06/12/2020', 'CodeClient': '897695146', 'NbPo': 2, 'po': [{'quantite': '45', 'prixtotht': '541', 'prixunitht': '36', 'decription': 'Briquette'}, {'quantite': '25', 'prixtotht': '410', 'prixunitht': '120', 'decription': 'Planches de chantier'}], 'totalht': '951,00 €'}\n"
     ]
    }
   ],
   "source": [
    "output[\"totalht\"] = getTextBetween(resultat, 'Total HT ', 'TVA (20%) ').strip()\n",
    "print (output)"
   ]
  },
  {
   "cell_type": "markdown",
   "metadata": {},
   "source": [
    "## TVA"
   ]
  },
  {
   "cell_type": "code",
   "execution_count": 53,
   "metadata": {},
   "outputs": [
    {
     "name": "stdout",
     "output_type": "stream",
     "text": [
      "{'Adresse': 'Compagnie d’eléectricité\\n3 avenue Foch\\n75001 PARIS', 'Reference': 'ZR8978989', 'DateFacture': '06/12/2020', 'CodeClient': '897695146', 'NbPo': 2, 'po': [{'quantite': '45', 'prixtotht': '541', 'prixunitht': '36', 'decription': 'Briquette'}, {'quantite': '25', 'prixtotht': '410', 'prixunitht': '120', 'decription': 'Planches de chantier'}], 'totalht': '951,00 €', 'tva': '190,20 €'}\n"
     ]
    }
   ],
   "source": [
    "output[\"tva\"] = getTextBetween(resultat, 'TVA (20%) ', 'Total TTC (en euros) ').strip()\n",
    "print (output)"
   ]
  },
  {
   "cell_type": "markdown",
   "metadata": {},
   "source": [
    "## Total"
   ]
  },
  {
   "cell_type": "code",
   "execution_count": 54,
   "metadata": {},
   "outputs": [
    {
     "name": "stdout",
     "output_type": "stream",
     "text": [
      "{'Adresse': 'Compagnie d’eléectricité\\n3 avenue Foch\\n75001 PARIS', 'Reference': 'ZR8978989', 'DateFacture': '06/12/2020', 'CodeClient': '897695146', 'NbPo': 2, 'po': [{'quantite': '45', 'prixtotht': '541', 'prixunitht': '36', 'decription': 'Briquette'}, {'quantite': '25', 'prixtotht': '410', 'prixunitht': '120', 'decription': 'Planches de chantier'}], 'totalht': '951,00 €', 'tva': '190,20 €', 'total': '1041,20€'}\n"
     ]
    }
   ],
   "source": [
    "output[\"total\"] = getTextBetween(resultat, 'Total TTC (en euros) ', 'En votre aimable réglement,').strip()\n",
    "print (output)"
   ]
  },
  {
   "cell_type": "code",
   "execution_count": null,
   "metadata": {},
   "outputs": [],
   "source": []
  }
 ],
 "metadata": {
  "kernelspec": {
   "display_name": "Python 3",
   "language": "python",
   "name": "python3"
  },
  "language_info": {
   "codemirror_mode": {
    "name": "ipython",
    "version": 3
   },
   "file_extension": ".py",
   "mimetype": "text/x-python",
   "name": "python",
   "nbconvert_exporter": "python",
   "pygments_lexer": "ipython3",
   "version": "3.7.4"
  }
 },
 "nbformat": 4,
 "nbformat_minor": 2
}
