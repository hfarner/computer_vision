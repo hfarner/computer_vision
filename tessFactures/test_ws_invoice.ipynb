{
 "cells": [
  {
   "cell_type": "code",
   "execution_count": 1,
   "metadata": {},
   "outputs": [],
   "source": [
    "import requests\n",
    "import json\n",
    "import cv2\n"
   ]
  },
  {
   "cell_type": "markdown",
   "metadata": {},
   "source": [
    "# test avec une image"
   ]
  },
  {
   "cell_type": "code",
   "execution_count": null,
   "metadata": {},
   "outputs": [],
   "source": [
    "\n",
    "addr = 'http://localhost:8080'\n",
    "url = addr + '/facture'\n",
    "\n",
    "# prepare headers for http request\n",
    "headers = {'content-type': 'image/jpeg'}\n",
    "fichier = r'C:\\BluePrism\\Demo\\tessFactures\\Facture_2.jpg'\n",
    "\n",
    "img = cv2.imread(fichier)\n",
    "\n",
    "# encode image as jpeg\n",
    "_, img_encoded = cv2.imencode('.jpg', img)"
   ]
  },
  {
   "cell_type": "code",
   "execution_count": 10,
   "metadata": {
    "scrolled": true
   },
   "outputs": [
    {
     "name": "stdout",
     "output_type": "stream",
     "text": [
      "{'Adresse': 'Compagnie d‘eléectricité\\n3 avenue Foch\\n75001 PARIS', 'CodeClient': '897695146', 'DateFacture': '06/12/2020', 'NbPo': 2, 'Reference': 'ZR8978989', 'po': [{'decription': 'Briquette', 'prixtotht': '541', 'prixunitht': '36', 'quantite': '45'}, {'decription': 'Planches de chantier', 'prixtotht': '410', 'prixunitht': '120', 'quantite': '25'}], 'total': '1041,20 €', 'totalht': '951,00 €', 'tva': '190,20 €'}\n"
     ]
    }
   ],
   "source": [
    "# send http request with image and receive response\n",
    "response = requests.post(url, data=img_encoded.tostring(), headers=headers)\n",
    "\n",
    "# decode response\n",
    "print(json.loads(response.text))"
   ]
  },
  {
   "cell_type": "code",
   "execution_count": 8,
   "metadata": {},
   "outputs": [
    {
     "data": {
      "text/plain": [
       "'{\"output\": \"BLUEPRISM FACTURE\\\\n\\\\n9 rue du colis\\\\u00e9e\\\\n75008 PARIS\\\\n\\\\n+33 1 54 47 89 89\\\\nwww.blueprism.com/fr\\\\n\\\\nCompagnie d\\\\u2018el\\\\u00e9ectricit\\\\u00e9\\\\n3 avenue Foch\\\\n\\\\n75001 PARIS\\\\nR\\\\u00e9f\\\\u00e9rence: ZR8978989\\\\nDate: 06/12/2020\\\\nClient: 897695146\\\\nIntitul\\\\u00e9: R\\\\u00e9novation de la tour eiffel\\\\nQuantit\\\\u00e9 D\\\\u00e9signation Prix unitaire HT . Prix total HT\\\\n45 Briquette 36 541\\\\n25 Planches de chantier 120 410\\\\nTotal HT 951,00 \\\\u20ac\\\\nTVA (20%) 190,20 \\\\u20ac\\\\nTotal TTC (en euros) 1041,20 \\\\u20ac\\\\n\\\\nEn votre aimable reglement,\\\\nCordialement,\\\\n\\\\nConditions de paiement : paiement a r\\\\u00e9ception de facture, a 30 jours...\\\\n\\\\nAucun escompte consenti pour reglement anticip\\\\u00e9\\\\n\\\\nTout incident de paiement est passible d\\\\u2018int\\\\u00e9r\\\\u00e9t de retard. Le montant des p\\\\u00e9nalit\\\\u00e9s r\\\\u00e9sulte de l\\\\u2018application\\\\naux sommes restant dues d\\\\u2018un taux d\\\\u2018int\\\\u00e9r\\\\u00e9t l\\\\u00e9gal en vigueur au moment de l\\\\u2018incident.\\\\n\\\\nIndemnit\\\\u00e9 forfaitaire pour frais de recouvrement due au cr\\\\u00e9ancier en cas de retard de paiement : 40\\\\u20ac\\\\n\\\\nN\\\\u00b0 Siret 210.896.764 00015 RCS Montpellier\\\\nCode APE 947A \\\\u2014 N\\\\u00b0 TVA Intracom. FR 77825896764000\"}'"
      ]
     },
     "execution_count": 8,
     "metadata": {},
     "output_type": "execute_result"
    }
   ],
   "source": [
    "response.text"
   ]
  },
  {
   "cell_type": "markdown",
   "metadata": {},
   "source": [
    "# test avec un pdf"
   ]
  },
  {
   "cell_type": "code",
   "execution_count": 10,
   "metadata": {},
   "outputs": [
    {
     "name": "stdout",
     "output_type": "stream",
     "text": [
      "{'output': 'BLUEPRISM FACTURE\\n\\n9 rue du colisée\\n75008 PARIS\\n\\n+33 1 54 47 89 89\\nwww.blueprism.com/fr\\n\\nCompagnie d‘eléectricité\\n3 avenue Foch\\n\\n75001 PARIS\\nRéférence: ZR8978989\\nDate: 06/12/2020\\nClient: 897695146\\nIntitulé: Rénovation de la tour eiffel\\nQuantité Désignation Prix unitaire HT _ Prix total HT\\n45 Briquette 36 541\\n25 Planches de chantier 120 410\\nTotal HT 951,00 €\\nTVA (20%) 190,20 €\\nTotal TTC (en euros) 1041,20 €\\n\\nEn votre aimable reglement,\\nCordialement,\\n\\nConditions de paiement : paiement a réception de facture, a 30 jours...\\n\\nAucun escompte consenti pour réglement anticipé\\n\\nTout incident de paiement est passible d‘intérét de retard. Le montant des pénalités résulte de l‘application\\naux sommes restant dues d‘un taux d‘intérét légal en vigueur au moment de l‘incident.\\n\\nIndemnité forfaitaire pour frais de recouvrement due au créancier en cas de retard de paiement : 40€\\n\\nN° Siret 210.896.764 00015 RCS Montpellier\\nCode APE 947A — N° TVA Intracom. FR 77825896764000\\n\\nblueprism.com\\n'}\n"
     ]
    }
   ],
   "source": [
    "addr = 'http://localhost:8080'\n",
    "url = addr + '/pdf'\n",
    "\n",
    "# prepare headers for http request\n",
    "headers = {'content-type': 'application/pdf'}\n",
    "fichier = r'C:\\BluePrism\\Demo\\tessFactures\\Facture.pdf'\n",
    "\n",
    "data = open(fichier, \"rb\").read()\n",
    "\n",
    "# send http request with image and receive response\n",
    "response = requests.post(url, data=data, headers=headers)\n",
    "\n",
    "# decode response\n",
    "print(json.loads(response.text))"
   ]
  },
  {
   "cell_type": "code",
   "execution_count": null,
   "metadata": {},
   "outputs": [],
   "source": []
  }
 ],
 "metadata": {
  "kernelspec": {
   "display_name": "Python 3",
   "language": "python",
   "name": "python3"
  },
  "language_info": {
   "codemirror_mode": {
    "name": "ipython",
    "version": 3
   },
   "file_extension": ".py",
   "mimetype": "text/x-python",
   "name": "python",
   "nbconvert_exporter": "python",
   "pygments_lexer": "ipython3",
   "version": "3.7.3"
  }
 },
 "nbformat": 4,
 "nbformat_minor": 2
}
