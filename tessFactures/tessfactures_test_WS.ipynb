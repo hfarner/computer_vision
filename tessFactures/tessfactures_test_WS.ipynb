{
 "cells": [
  {
   "cell_type": "code",
   "execution_count": 46,
   "metadata": {},
   "outputs": [],
   "source": [
    "import requests\n",
    "import json\n",
    "import cv2\n",
    "\n",
    "addr = 'http://localhost:8080'\n",
    "url = addr + '/facture'\n",
    "\n",
    "# prepare headers for http request\n",
    "headers = {'content-type': 'image/jpeg'}\n",
    "fichier = r'/home/benoit/git/python_tutos/tesseract/tessFactures/Facture_1.jpg'\n",
    "\n",
    "img = cv2.imread(fichier)\n",
    "\n",
    "# encode image as jpeg\n",
    "_, img_encoded = cv2.imencode('.jpg', img)"
   ]
  },
  {
   "cell_type": "markdown",
   "metadata": {},
   "source": [
    "Très bon petit tuto pour intégrer une image en tant que parametre dans Flask :  \n",
    "https://gist.github.com/kylehounslow/767fb72fde2ebdd010a0bf4242371594"
   ]
  },
  {
   "cell_type": "code",
   "execution_count": 47,
   "metadata": {},
   "outputs": [
    {
     "name": "stdout",
     "output_type": "stream",
     "text": [
      "{'Adresse': 'Compagnie des eaux\\n2 rue de la foret\\n45879 BOIS VILLIERS', 'CodeClient': '98908908', 'DateFacture': '12/12/2020', 'NbPo': 1, 'Reference': 'ZR980980', 'po': [{'decription': \"tomette — Réf 'Toscane blanc' (20*20)\", 'prixtotht': '276', 'prixunitht': '23', 'quantite': '12'}], 'total': '331,20 €', 'totalht': '276,00 €', 'tva': '55,20€'}\n"
     ]
    }
   ],
   "source": [
    "# send http request with image and receive response\n",
    "response = requests.post(url, data=img_encoded.tostring(), headers=headers)\n",
    "\n",
    "# decode response\n",
    "print(json.loads(response.text))"
   ]
  },
  {
   "cell_type": "code",
   "execution_count": null,
   "metadata": {},
   "outputs": [],
   "source": []
  }
 ],
 "metadata": {
  "kernelspec": {
   "display_name": "Python 3",
   "language": "python",
   "name": "python3"
  },
  "language_info": {
   "codemirror_mode": {
    "name": "ipython",
    "version": 3
   },
   "file_extension": ".py",
   "mimetype": "text/x-python",
   "name": "python",
   "nbconvert_exporter": "python",
   "pygments_lexer": "ipython3",
   "version": "3.7.4"
  }
 },
 "nbformat": 4,
 "nbformat_minor": 2
}
