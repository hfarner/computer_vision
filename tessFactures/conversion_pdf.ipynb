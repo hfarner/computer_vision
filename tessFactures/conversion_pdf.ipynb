{
 "cells": [
  {
   "cell_type": "code",
   "execution_count": 9,
   "metadata": {},
   "outputs": [],
   "source": [
    "# pip install pdf2image\n",
    "# https://pypi.org/project/pdf2image\n",
    "from pdf2image import convert_from_path, convert_from_bytes\n",
    "try:\n",
    "    from PIL import Image\n",
    "except ImportError:\n",
    "    import Image\n",
    "import pytesseract\n",
    "from pytesseract import Output"
   ]
  },
  {
   "cell_type": "code",
   "execution_count": 10,
   "metadata": {},
   "outputs": [],
   "source": [
    "images = convert_from_path('Facture.pdf')\n",
    "#images = convert_from_bytes(open('Facture.pdf', 'rb').read(),fmt=\"jpeg\")"
   ]
  },
  {
   "cell_type": "code",
   "execution_count": 11,
   "metadata": {},
   "outputs": [
    {
     "name": "stdout",
     "output_type": "stream",
     "text": [
      "Nombre de pages: 1\n"
     ]
    }
   ],
   "source": [
    "print (\"Nombre de pages: \" + str(len(images)))"
   ]
  },
  {
   "cell_type": "code",
   "execution_count": 12,
   "metadata": {},
   "outputs": [
    {
     "name": "stdout",
     "output_type": "stream",
     "text": [
      "Page N°1\n",
      "\n",
      "BLUEPRISM FACTURE\n",
      "\n",
      "9 rue du colisée\n",
      "75008 PARIS\n",
      "\n",
      "+33 154 47 89 89\n",
      "www.blueprism.com/fr\n",
      "\n",
      "Compagnie des eaux\n",
      "2 rue de la foret\n",
      "45879 BOIS VILLIERS\n",
      "\n",
      "Référence: ZR980980\n",
      "Date: 12/12/2020\n",
      "Client: 98908908\n",
      "\n",
      "Intitulé: Construction d’une extension\n",
      "\n",
      "Quantité Désignation Prix unitaire HT ~—— Prix total HT\n",
      "tomette - Réf 'Toscane blanc'\n",
      "12 (20*20) 23 276\n",
      "Total HT 276,00 €\n",
      "TVA (20%) 55,20 €\n",
      "Total TTC (en\n",
      "euros) 331,20 €\n",
      "\n",
      "En votre aimable réglement,\n",
      "Cordialement,\n",
      "\n",
      "Conditions de paiement : paiement a réception de facture, a 30 jours...\n",
      "\n",
      "Aucun escompte consenti pour réglement anticipé\n",
      "\n",
      "Tout incident de paiement est passible d'intérét de retard. Le montant des pénalités résulte de l'application\n",
      "aux sommes restant dues d'un taux d'intérét légal en vigueur au moment de I'incident.\n",
      "\n",
      "Indemnité forfaitaire pour frais de recouvrement due au créancier en cas de retard de paiement : 40€\n",
      "\n",
      "N° Siret 210.896.764 00015 RCS Montpellier\n",
      "Code APE 947A - N° TVA Intracom. FR 77825896764000\n",
      "\n",
      "www.blueprism.com\n"
     ]
    }
   ],
   "source": [
    "for i in range (len(images)):\n",
    "    print (\"Page N°\" + str(i+1) + \"\\n\")\n",
    "    print(pytesseract.image_to_string(images[i]))"
   ]
  },
  {
   "cell_type": "code",
   "execution_count": null,
   "metadata": {},
   "outputs": [],
   "source": []
  }
 ],
 "metadata": {
  "kernelspec": {
   "display_name": "Python 3",
   "language": "python",
   "name": "python3"
  },
  "language_info": {
   "codemirror_mode": {
    "name": "ipython",
    "version": 3
   },
   "file_extension": ".py",
   "mimetype": "text/x-python",
   "name": "python",
   "nbconvert_exporter": "python",
   "pygments_lexer": "ipython3",
   "version": "3.7.4"
  }
 },
 "nbformat": 4,
 "nbformat_minor": 2
}
